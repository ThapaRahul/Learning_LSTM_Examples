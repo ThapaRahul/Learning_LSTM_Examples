{
  "nbformat": 4,
  "nbformat_minor": 0,
  "metadata": {
    "colab": {
      "name": "LSTM_Google_Stock_Price",
      "version": "0.3.2",
      "provenance": []
    },
    "kernelspec": {
      "name": "python3",
      "display_name": "Python 3"
    }
  },
  "cells": [
    {
      "cell_type": "code",
      "metadata": {
        "id": "MBdu-54fpgQJ",
        "colab_type": "code",
        "colab": {}
      },
      "source": [
        "# importing libraries\n",
        "import pandas as pd\n",
        "import numpy as np\n",
        "import matplotlib.pyplot as plt"
      ],
      "execution_count": 0,
      "outputs": []
    },
    {
      "cell_type": "code",
      "metadata": {
        "id": "vpAmwclUqq5b",
        "colab_type": "code",
        "colab": {}
      },
      "source": [
        "# importing training data\n",
        "\n",
        "dataset_train = pd.read_csv('Google_Stock_Price_Train.csv')\n",
        "training_set = dataset_train.iloc[:, 1:2].values"
      ],
      "execution_count": 0,
      "outputs": []
    },
    {
      "cell_type": "code",
      "metadata": {
        "id": "zE_VY_07rac1",
        "colab_type": "code",
        "colab": {}
      },
      "source": [
        "# Feature Scaling\n",
        "\n",
        "from sklearn.preprocessing import MinMaxScaler\n",
        "sc = MinMaxScaler()\n",
        "training_set_scaled = sc.fit_transform(training_set)"
      ],
      "execution_count": 0,
      "outputs": []
    },
    {
      "cell_type": "code",
      "metadata": {
        "id": "14DyI-eatXEJ",
        "colab_type": "code",
        "colab": {}
      },
      "source": [
        "# Creating a data strucutre with 60 timesteps and 1 output\n",
        "# timesteps -- How many steps you want to go in past and consider to predict\n",
        "X_train = []\n",
        "y_train = []\n",
        "\n",
        "for i in range(60, 1258):\n",
        "  X_train.append(training_set_scaled[i-60:i, 0])\n",
        "  y_train.append(training_set_scaled[i, 0])\n",
        "  \n",
        "X_train, y_train = np.array(X_train), np.array(y_train)\n",
        "\n",
        "X_train = np.reshape(X_train, (X_train.shape[0], X_train.shape[1], 1))"
      ],
      "execution_count": 0,
      "outputs": []
    },
    {
      "cell_type": "code",
      "metadata": {
        "id": "xOIL307BRCjE",
        "colab_type": "code",
        "colab": {}
      },
      "source": [
        ""
      ],
      "execution_count": 0,
      "outputs": []
    },
    {
      "cell_type": "code",
      "metadata": {
        "id": "skCCGvNMaY4y",
        "colab_type": "code",
        "outputId": "4ff3a56e-afec-447d-e3e5-605a555d1c71",
        "colab": {
          "base_uri": "https://localhost:8080/",
          "height": 34
        }
      },
      "source": [
        "X_train.shape"
      ],
      "execution_count": 0,
      "outputs": [
        {
          "output_type": "execute_result",
          "data": {
            "text/plain": [
              "(1198, 60, 1)"
            ]
          },
          "metadata": {
            "tags": []
          },
          "execution_count": 8
        }
      ]
    },
    {
      "cell_type": "code",
      "metadata": {
        "id": "y2JBsov3B1TW",
        "colab_type": "code",
        "colab": {}
      },
      "source": [
        "# Building the RNN\n",
        "\n",
        "import tensorflow as tf\n",
        "from tensorflow.keras.models import Sequential\n",
        "from tensorflow.keras.layers import Dense, LSTM, Dropout"
      ],
      "execution_count": 0,
      "outputs": []
    },
    {
      "cell_type": "code",
      "metadata": {
        "id": "pMyn9uBuXAJM",
        "colab_type": "code",
        "colab": {}
      },
      "source": [
        "regressor = Sequential()"
      ],
      "execution_count": 0,
      "outputs": []
    },
    {
      "cell_type": "code",
      "metadata": {
        "id": "fJioYwqhX0oE",
        "colab_type": "code",
        "outputId": "46f0690d-db4d-48ba-b9e3-f5c25638ae08",
        "colab": {
          "base_uri": "https://localhost:8080/",
          "height": 107
        }
      },
      "source": [
        "regressor.add(LSTM(units = 50, return_sequences=True, input_shape= (X_train.shape[1], 1)))\n",
        "regressor.add(Dropout(0.20))\n",
        "\n",
        "regressor.add(LSTM(units = 50, return_sequences=True))\n",
        "regressor.add(Dropout(0.20))\n",
        "\n",
        "regressor.add(LSTM(units = 50, return_sequences=True))\n",
        "regressor.add(Dropout(0.20))\n",
        "\n",
        "regressor.add(LSTM(units = 50))\n",
        "regressor.add(Dropout(0.20))"
      ],
      "execution_count": 0,
      "outputs": [
        {
          "output_type": "stream",
          "text": [
            "WARNING: Logging before flag parsing goes to stderr.\n",
            "W0728 00:44:55.460983 140104367900544 deprecation.py:506] From /usr/local/lib/python3.6/dist-packages/tensorflow/python/ops/init_ops.py:1251: calling VarianceScaling.__init__ (from tensorflow.python.ops.init_ops) with dtype is deprecated and will be removed in a future version.\n",
            "Instructions for updating:\n",
            "Call initializer instance with the dtype argument instead of passing it to the constructor\n"
          ],
          "name": "stderr"
        }
      ]
    },
    {
      "cell_type": "code",
      "metadata": {
        "id": "MgAAwtydCZiZ",
        "colab_type": "code",
        "colab": {}
      },
      "source": [
        "regressor.add(Dense(units=1))"
      ],
      "execution_count": 0,
      "outputs": []
    },
    {
      "cell_type": "code",
      "metadata": {
        "id": "RwuoBxboDAoj",
        "colab_type": "code",
        "colab": {}
      },
      "source": [
        "regressor.compile(optimizer='adam', loss='mean_squared_error')"
      ],
      "execution_count": 0,
      "outputs": []
    },
    {
      "cell_type": "code",
      "metadata": {
        "id": "gyVf1XK7EL6_",
        "colab_type": "code",
        "outputId": "4ef37dd2-ce3b-4896-9ee8-26776bfb3172",
        "colab": {
          "base_uri": "https://localhost:8080/",
          "height": 1000
        }
      },
      "source": [
        "regressor.fit(X_train, y_train, epochs=100, batch_size=32)"
      ],
      "execution_count": 0,
      "outputs": [
        {
          "output_type": "stream",
          "text": [
            "W0728 00:57:42.056544 140104367900544 deprecation.py:323] From /usr/local/lib/python3.6/dist-packages/tensorflow/python/ops/math_grad.py:1250: add_dispatch_support.<locals>.wrapper (from tensorflow.python.ops.array_ops) is deprecated and will be removed in a future version.\n",
            "Instructions for updating:\n",
            "Use tf.where in 2.0, which has the same broadcast rule as np.where\n"
          ],
          "name": "stderr"
        },
        {
          "output_type": "stream",
          "text": [
            "Epoch 1/100\n",
            "1198/1198 [==============================] - 11s 9ms/sample - loss: 0.0560\n",
            "Epoch 2/100\n",
            "1198/1198 [==============================] - 8s 7ms/sample - loss: 0.0062\n",
            "Epoch 3/100\n",
            "1198/1198 [==============================] - 8s 7ms/sample - loss: 0.0052\n",
            "Epoch 4/100\n",
            "1198/1198 [==============================] - 8s 7ms/sample - loss: 0.0049\n",
            "Epoch 5/100\n",
            "1198/1198 [==============================] - 8s 7ms/sample - loss: 0.0048\n",
            "Epoch 6/100\n",
            "1198/1198 [==============================] - 8s 7ms/sample - loss: 0.0047\n",
            "Epoch 7/100\n",
            "1198/1198 [==============================] - 8s 7ms/sample - loss: 0.0045\n",
            "Epoch 8/100\n",
            "1198/1198 [==============================] - 8s 7ms/sample - loss: 0.0043\n",
            "Epoch 9/100\n",
            "1198/1198 [==============================] - 8s 7ms/sample - loss: 0.0039\n",
            "Epoch 10/100\n",
            "1198/1198 [==============================] - 8s 7ms/sample - loss: 0.0043\n",
            "Epoch 11/100\n",
            "1198/1198 [==============================] - 8s 7ms/sample - loss: 0.0042\n",
            "Epoch 12/100\n",
            "1198/1198 [==============================] - 8s 7ms/sample - loss: 0.0038\n",
            "Epoch 13/100\n",
            "1198/1198 [==============================] - 8s 7ms/sample - loss: 0.0044\n",
            "Epoch 14/100\n",
            "1198/1198 [==============================] - 8s 7ms/sample - loss: 0.0037\n",
            "Epoch 15/100\n",
            "1198/1198 [==============================] - 8s 7ms/sample - loss: 0.0034\n",
            "Epoch 16/100\n",
            "1198/1198 [==============================] - 8s 7ms/sample - loss: 0.0034\n",
            "Epoch 17/100\n",
            "1198/1198 [==============================] - 8s 7ms/sample - loss: 0.0037\n",
            "Epoch 18/100\n",
            "1198/1198 [==============================] - 8s 7ms/sample - loss: 0.0038\n",
            "Epoch 19/100\n",
            "1198/1198 [==============================] - 8s 7ms/sample - loss: 0.0032\n",
            "Epoch 20/100\n",
            "1198/1198 [==============================] - 8s 7ms/sample - loss: 0.0038\n",
            "Epoch 21/100\n",
            "1198/1198 [==============================] - 8s 7ms/sample - loss: 0.0033\n",
            "Epoch 22/100\n",
            "1198/1198 [==============================] - 8s 7ms/sample - loss: 0.0032\n",
            "Epoch 23/100\n",
            "1198/1198 [==============================] - 8s 7ms/sample - loss: 0.0033\n",
            "Epoch 24/100\n",
            "1198/1198 [==============================] - 8s 7ms/sample - loss: 0.0033\n",
            "Epoch 25/100\n",
            "1198/1198 [==============================] - 8s 7ms/sample - loss: 0.0033\n",
            "Epoch 26/100\n",
            "1198/1198 [==============================] - 8s 7ms/sample - loss: 0.0030\n",
            "Epoch 27/100\n",
            "1198/1198 [==============================] - 8s 7ms/sample - loss: 0.0029\n",
            "Epoch 28/100\n",
            "1198/1198 [==============================] - 8s 7ms/sample - loss: 0.0035\n",
            "Epoch 29/100\n",
            "1198/1198 [==============================] - 8s 7ms/sample - loss: 0.0028\n",
            "Epoch 30/100\n",
            "1198/1198 [==============================] - 8s 7ms/sample - loss: 0.0032\n",
            "Epoch 31/100\n",
            "1198/1198 [==============================] - 8s 7ms/sample - loss: 0.0030\n",
            "Epoch 32/100\n",
            "1198/1198 [==============================] - 8s 7ms/sample - loss: 0.0028\n",
            "Epoch 33/100\n",
            "1198/1198 [==============================] - 8s 7ms/sample - loss: 0.0028\n",
            "Epoch 34/100\n",
            "1198/1198 [==============================] - 8s 7ms/sample - loss: 0.0027\n",
            "Epoch 35/100\n",
            "1198/1198 [==============================] - 8s 7ms/sample - loss: 0.0027\n",
            "Epoch 36/100\n",
            "1198/1198 [==============================] - 8s 7ms/sample - loss: 0.0032\n",
            "Epoch 37/100\n",
            "1198/1198 [==============================] - 8s 7ms/sample - loss: 0.0031\n",
            "Epoch 38/100\n",
            "1198/1198 [==============================] - 8s 7ms/sample - loss: 0.0026\n",
            "Epoch 39/100\n",
            "1198/1198 [==============================] - 8s 7ms/sample - loss: 0.0028\n",
            "Epoch 40/100\n",
            "1198/1198 [==============================] - 8s 7ms/sample - loss: 0.0029\n",
            "Epoch 41/100\n",
            "1198/1198 [==============================] - 8s 7ms/sample - loss: 0.0026\n",
            "Epoch 42/100\n",
            "1198/1198 [==============================] - 8s 7ms/sample - loss: 0.0030\n",
            "Epoch 43/100\n",
            "1198/1198 [==============================] - 8s 7ms/sample - loss: 0.0026\n",
            "Epoch 44/100\n",
            "1198/1198 [==============================] - 8s 7ms/sample - loss: 0.0026\n",
            "Epoch 45/100\n",
            "1198/1198 [==============================] - 8s 7ms/sample - loss: 0.0024\n",
            "Epoch 46/100\n",
            "1198/1198 [==============================] - 8s 7ms/sample - loss: 0.0026\n",
            "Epoch 47/100\n",
            "1198/1198 [==============================] - 8s 7ms/sample - loss: 0.0023\n",
            "Epoch 48/100\n",
            "1198/1198 [==============================] - 8s 7ms/sample - loss: 0.0021\n",
            "Epoch 49/100\n",
            "1198/1198 [==============================] - 8s 7ms/sample - loss: 0.0022\n",
            "Epoch 50/100\n",
            "1198/1198 [==============================] - 8s 7ms/sample - loss: 0.0022\n",
            "Epoch 51/100\n",
            "1198/1198 [==============================] - 8s 7ms/sample - loss: 0.0023\n",
            "Epoch 52/100\n",
            "1198/1198 [==============================] - 8s 7ms/sample - loss: 0.0025\n",
            "Epoch 53/100\n",
            "1198/1198 [==============================] - 8s 7ms/sample - loss: 0.0023\n",
            "Epoch 54/100\n",
            "1198/1198 [==============================] - 8s 7ms/sample - loss: 0.0020\n",
            "Epoch 55/100\n",
            "1198/1198 [==============================] - 8s 7ms/sample - loss: 0.0023\n",
            "Epoch 56/100\n",
            "1198/1198 [==============================] - 8s 7ms/sample - loss: 0.0021\n",
            "Epoch 57/100\n",
            "1198/1198 [==============================] - 8s 7ms/sample - loss: 0.0021\n",
            "Epoch 58/100\n",
            "1198/1198 [==============================] - 8s 7ms/sample - loss: 0.0021\n",
            "Epoch 59/100\n",
            "1198/1198 [==============================] - 8s 7ms/sample - loss: 0.0022\n",
            "Epoch 60/100\n",
            "1198/1198 [==============================] - 8s 7ms/sample - loss: 0.0020\n",
            "Epoch 61/100\n",
            "1198/1198 [==============================] - 8s 7ms/sample - loss: 0.0020\n",
            "Epoch 62/100\n",
            "1198/1198 [==============================] - 8s 7ms/sample - loss: 0.0023\n",
            "Epoch 63/100\n",
            "1198/1198 [==============================] - 8s 7ms/sample - loss: 0.0021\n",
            "Epoch 64/100\n",
            "1198/1198 [==============================] - 8s 7ms/sample - loss: 0.0019\n",
            "Epoch 65/100\n",
            "1198/1198 [==============================] - 8s 7ms/sample - loss: 0.0019\n",
            "Epoch 66/100\n",
            "1198/1198 [==============================] - 8s 7ms/sample - loss: 0.0019\n",
            "Epoch 67/100\n",
            "1198/1198 [==============================] - 8s 7ms/sample - loss: 0.0022\n",
            "Epoch 68/100\n",
            "1198/1198 [==============================] - 8s 7ms/sample - loss: 0.0019\n",
            "Epoch 69/100\n",
            "1198/1198 [==============================] - 8s 7ms/sample - loss: 0.0021\n",
            "Epoch 70/100\n",
            "1198/1198 [==============================] - 8s 7ms/sample - loss: 0.0017\n",
            "Epoch 71/100\n",
            "1198/1198 [==============================] - 8s 7ms/sample - loss: 0.0020\n",
            "Epoch 72/100\n",
            "1198/1198 [==============================] - 8s 7ms/sample - loss: 0.0019\n",
            "Epoch 73/100\n",
            "1198/1198 [==============================] - 8s 7ms/sample - loss: 0.0021\n",
            "Epoch 74/100\n",
            "1198/1198 [==============================] - 8s 7ms/sample - loss: 0.0017\n",
            "Epoch 75/100\n",
            "1198/1198 [==============================] - 8s 7ms/sample - loss: 0.0016\n",
            "Epoch 76/100\n",
            "1198/1198 [==============================] - 8s 7ms/sample - loss: 0.0016\n",
            "Epoch 77/100\n",
            "1198/1198 [==============================] - 8s 7ms/sample - loss: 0.0017\n",
            "Epoch 78/100\n",
            "1198/1198 [==============================] - 8s 7ms/sample - loss: 0.0017\n",
            "Epoch 79/100\n",
            "1198/1198 [==============================] - 8s 7ms/sample - loss: 0.0017\n",
            "Epoch 80/100\n",
            "1198/1198 [==============================] - 8s 7ms/sample - loss: 0.0019\n",
            "Epoch 81/100\n",
            "1198/1198 [==============================] - 8s 7ms/sample - loss: 0.0016\n",
            "Epoch 82/100\n",
            "1198/1198 [==============================] - 8s 7ms/sample - loss: 0.0017\n",
            "Epoch 83/100\n",
            "1198/1198 [==============================] - 8s 7ms/sample - loss: 0.0016\n",
            "Epoch 84/100\n",
            "1198/1198 [==============================] - 8s 7ms/sample - loss: 0.0016\n",
            "Epoch 85/100\n",
            "1198/1198 [==============================] - 8s 7ms/sample - loss: 0.0017\n",
            "Epoch 86/100\n",
            "1198/1198 [==============================] - 8s 7ms/sample - loss: 0.0016\n",
            "Epoch 87/100\n",
            "1198/1198 [==============================] - 8s 7ms/sample - loss: 0.0017\n",
            "Epoch 88/100\n",
            "1198/1198 [==============================] - 8s 7ms/sample - loss: 0.0016\n",
            "Epoch 89/100\n",
            "1198/1198 [==============================] - 8s 7ms/sample - loss: 0.0015\n",
            "Epoch 90/100\n",
            "1198/1198 [==============================] - 8s 7ms/sample - loss: 0.0016\n",
            "Epoch 91/100\n",
            "1198/1198 [==============================] - 8s 7ms/sample - loss: 0.0016\n",
            "Epoch 92/100\n",
            "1198/1198 [==============================] - 8s 7ms/sample - loss: 0.0016\n",
            "Epoch 93/100\n",
            "1198/1198 [==============================] - 8s 7ms/sample - loss: 0.0015\n",
            "Epoch 94/100\n",
            "1198/1198 [==============================] - 8s 7ms/sample - loss: 0.0017\n",
            "Epoch 95/100\n",
            "1198/1198 [==============================] - 8s 7ms/sample - loss: 0.0016\n",
            "Epoch 96/100\n",
            "1198/1198 [==============================] - 8s 7ms/sample - loss: 0.0014\n",
            "Epoch 97/100\n",
            "1198/1198 [==============================] - 8s 7ms/sample - loss: 0.0014\n",
            "Epoch 98/100\n",
            "1198/1198 [==============================] - 8s 7ms/sample - loss: 0.0015\n",
            "Epoch 99/100\n",
            "1198/1198 [==============================] - 8s 7ms/sample - loss: 0.0015\n",
            "Epoch 100/100\n",
            "1198/1198 [==============================] - 8s 7ms/sample - loss: 0.0016\n"
          ],
          "name": "stdout"
        },
        {
          "output_type": "execute_result",
          "data": {
            "text/plain": [
              "<tensorflow.python.keras.callbacks.History at 0x7f6c530dcc18>"
            ]
          },
          "metadata": {
            "tags": []
          },
          "execution_count": 14
        }
      ]
    },
    {
      "cell_type": "code",
      "metadata": {
        "id": "CkGKlzdaQeAC",
        "colab_type": "code",
        "outputId": "f8702f62-cbaa-482b-ed05-1be7f332b673",
        "colab": {
          "base_uri": "https://localhost:8080/",
          "height": 34
        }
      },
      "source": [
        "model_json = regressor.to_json()\n",
        "with open(\"model.json\", \"w\") as json_file:\n",
        "  json_file.write(model_json)\n",
        "  \n",
        "regressor.save_weights(\"model.h5\")\n",
        "print(\"Saved model to disk\")"
      ],
      "execution_count": 0,
      "outputs": [
        {
          "output_type": "stream",
          "text": [
            "Saved model to disk\n"
          ],
          "name": "stdout"
        }
      ]
    },
    {
      "cell_type": "code",
      "metadata": {
        "id": "rP-0a0b_FUk4",
        "colab_type": "code",
        "colab": {}
      },
      "source": [
        "# importing testing data\n",
        "\n",
        "dataset_test = pd.read_csv('Google_Stock_Price_Test.csv')\n",
        "real_stock_price = dataset_test.iloc[:, 1:2].values"
      ],
      "execution_count": 0,
      "outputs": []
    },
    {
      "cell_type": "code",
      "metadata": {
        "id": "qryg7H_gLQI5",
        "colab_type": "code",
        "colab": {}
      },
      "source": [
        "dataset_total = pd.concat((dataset_train['Open'], dataset_test[\"Open\"]), axis=0)\n",
        "inputs = dataset_total[len(dataset_total) - len(dataset_test) - 60:].values"
      ],
      "execution_count": 0,
      "outputs": []
    },
    {
      "cell_type": "code",
      "metadata": {
        "id": "sv-Ub5FmQI6x",
        "colab_type": "code",
        "colab": {}
      },
      "source": [
        "inputs = inputs.reshape(-1, 1)\n",
        "inputs = sc.transform(inputs)"
      ],
      "execution_count": 0,
      "outputs": []
    },
    {
      "cell_type": "code",
      "metadata": {
        "id": "MPBZRVYTQJqQ",
        "colab_type": "code",
        "colab": {}
      },
      "source": [
        "# Creating a data strucutre with 60 timesteps and 1 output\n",
        "# timesteps -- How many steps you want to go in past and consider to predict\n",
        "X_test = []\n",
        "\n",
        "for i in range(60, 80):\n",
        "  X_test.append(inputs[i-60:i, 0])\n",
        "  \n",
        "X_test = np.array(X_test)\n",
        "X_test = np.reshape(X_test, (X_test.shape[0], X_test.shape[1], 1))\n",
        "\n",
        "predicted_stock_price = regressor.predict(X_test)\n",
        "predicted_stock_price = sc.inverse_transform(predicted_stock_price)"
      ],
      "execution_count": 0,
      "outputs": []
    },
    {
      "cell_type": "code",
      "metadata": {
        "id": "KHwbfhfGT5Js",
        "colab_type": "code",
        "outputId": "0322ad56-5023-438c-f187-de4240b8609a",
        "colab": {
          "base_uri": "https://localhost:8080/",
          "height": 369
        }
      },
      "source": [
        "predicted_stock_price"
      ],
      "execution_count": 0,
      "outputs": [
        {
          "output_type": "execute_result",
          "data": {
            "text/plain": [
              "array([[803.5944 ],\n",
              "       [800.49524],\n",
              "       [800.9174 ],\n",
              "       [802.7017 ],\n",
              "       [806.6286 ],\n",
              "       [813.2794 ],\n",
              "       [819.137  ],\n",
              "       [821.18   ],\n",
              "       [821.0579 ],\n",
              "       [820.37933],\n",
              "       [819.9    ],\n",
              "       [819.5969 ],\n",
              "       [819.4915 ],\n",
              "       [820.2067 ],\n",
              "       [821.35126],\n",
              "       [826.5714 ],\n",
              "       [834.2433 ],\n",
              "       [842.25397],\n",
              "       [846.20355],\n",
              "       [840.8255 ]], dtype=float32)"
            ]
          },
          "metadata": {
            "tags": []
          },
          "execution_count": 25
        }
      ]
    },
    {
      "cell_type": "code",
      "metadata": {
        "id": "5OMYPQS2T6Yb",
        "colab_type": "code",
        "outputId": "285eabf5-3bb2-455d-e807-b18380032e55",
        "colab": {
          "base_uri": "https://localhost:8080/",
          "height": 295
        }
      },
      "source": [
        "# Visualizing\n",
        "\n",
        "plt.plot(real_stock_price, color='red', label=\"Real Google Stock Price\")\n",
        "plt.plot(predicted_stock_price, color='blue', label=\"Predicted Google Stock Price\")\n",
        "plt.title('Google Stock Price Prediction')\n",
        "plt.xlabel(\"Time\")\n",
        "plt.ylabel(\"Stock Price\")\n",
        "plt.legend()\n",
        "plt.show()"
      ],
      "execution_count": 0,
      "outputs": [
        {
          "output_type": "display_data",
          "data": {
            "image/png": "[encoded data removed]",
            "text/plain": [
              "<Figure size 432x288 with 1 Axes>"
            ]
          },
          "metadata": {
            "tags": []
          }
        }
      ]
    },
    {
      "cell_type": "code",
      "metadata": {
        "id": "eF-0o2RDU5Fw",
        "colab_type": "code",
        "colab": {}
      },
      "source": [
        ""
      ],
      "execution_count": 0,
      "outputs": []
    }
  ]
}